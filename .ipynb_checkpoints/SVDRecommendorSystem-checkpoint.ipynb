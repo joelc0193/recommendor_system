{
 "cells": [
  {
   "cell_type": "code",
   "execution_count": 71,
   "id": "14601b1e",
   "metadata": {},
   "outputs": [],
   "source": [
    "from surprise import SVD\n",
    "from surprise import Dataset\n",
    "from surprise.model_selection import cross_validate\n",
    "from surprise.model_selection import GridSearchCV\n",
    "from surprise import KNNWithMeans\n",
    "import numpy as np\n",
    "import pandas as pd"
   ]
  },
  {
   "cell_type": "code",
   "execution_count": 73,
   "id": "8dd58f12",
   "metadata": {},
   "outputs": [],
   "source": [
    "# Load Data\n",
    "data = Dataset.load_builtin(\"ml-100k\")"
   ]
  },
  {
   "cell_type": "code",
   "execution_count": 6,
   "id": "724b7daf",
   "metadata": {},
   "outputs": [
    {
     "name": "stdout",
     "output_type": "stream",
     "text": [
      "0.9630304753096999\n",
      "{'n_epochs': 10, 'lr_all': 0.005, 'reg_all': 0.4}\n"
     ]
    }
   ],
   "source": [
    "# Find optimal hyper-parameters for SVD algorithm\n",
    "param_grid = {\n",
    "    \"n_epochs\": [10],\n",
    "    \"lr_all\": [0.005],\n",
    "    \"reg_all\": [0.4]\n",
    "}\n",
    "gs = GridSearchCV(SVD, param_grid, measures=[\"rmse\", \"mae\"], cv=3, refit=True)\n",
    "\n",
    "gs.fit(data)\n",
    "\n",
    "print(gs.best_score[\"rmse\"])\n",
    "print(gs.best_params[\"rmse\"])"
   ]
  },
  {
   "cell_type": "code",
   "execution_count": 74,
   "id": "c4a9373f",
   "metadata": {},
   "outputs": [
    {
     "name": "stdout",
     "output_type": "stream",
     "text": [
      "3.52986\n"
     ]
    }
   ],
   "source": [
    "trainingSet = data.build_full_trainset()\n",
    "\n",
    "svd = SVD(n_epochs=10, lr_all=0.005, reg_all=0.04)\n",
    "\n",
    "svd.fit(trainingSet)\n",
    "\n",
    "prediction = svd.predict('E', 2)\n",
    "print(prediction.est)"
   ]
  },
  {
   "cell_type": "code",
   "execution_count": 131,
   "id": "92a2378f",
   "metadata": {},
   "outputs": [],
   "source": [
    "df = pd.DataFrame(columns=['user', 'item', 'rating'], data=list(trainingSet.all_ratings()))\n",
    "ratings = np.asarray(pd.pivot_table(df, index='item', columns = 'user', values='rating'))\n",
    "ratings = np.where(np.isnan(ratings), 0, ratings)"
   ]
  },
  {
   "cell_type": "code",
   "execution_count": 249,
   "id": "0a0bc294",
   "metadata": {},
   "outputs": [],
   "source": [
    "# User distance matrix\n",
    "users_distance_matrix = ratings.T.dot(ratings)\n",
    "norms = np.array([np.sqrt(np.diagonal(users_distance_matrix))])\n",
    "users_distance_matrix = users_distance_matrix / (norms * norms.T) + 1e-9\n",
    "\n",
    "# Movie distance matrix\n",
    "movies_distance_matrix = ratings.dot(ratings.T)\n",
    "norms = np.array([np.sqrt(np.diagonal(movies_distance_matrix))])\n",
    "movies_distance_matrix = movies_distance_matrix / (norms * norms.T) + 1e-9\n",
    "\n",
    "# Get movie ratings via user-item filtering\n",
    "# 1. Dot multiply the ratings matrix by the user_similarity_matrix\n",
    "user_item_predictions = users_distance_matrix.dot(ratings.T) / np.array([np.abs(users_distance_matrix).sum(axis=1)]).T\n",
    "\n",
    "# Get movie ratings via item-item filtering\n",
    "# 1. Dot multiply the ratings matrix by the user_similarity_matrix\n",
    "item_item_predictions = ratings.T.dot(movies_distance_matrix) / np.array([np.abs(movies_distance_matrix).sum(axis=1)])"
   ]
  },
  {
   "cell_type": "code",
   "execution_count": 248,
   "id": "73427b8a",
   "metadata": {},
   "outputs": [
    {
     "name": "stdout",
     "output_type": "stream",
     "text": [
      "User-based CF MSE: 7.843480858975423\n",
      "Item-based CF MSE: 8.70364050625722\n"
     ]
    }
   ],
   "source": [
    "from sklearn.metrics import mean_squared_error\n",
    "\n",
    "def get_mse(pred, actual):\n",
    "    # Ignore nonzero terms.\n",
    "    pred = pred[actual.nonzero()].flatten()\n",
    "    actual = actual[actual.nonzero()].flatten()\n",
    "    return mean_squared_error(pred, actual)\n",
    "\n",
    "print('User-based CF MSE: ' + str(get_mse(user_item_predictions.T, ratings)))\n",
    "print('Item-based CF MSE: ' + str(get_mse(item_item_predictions.T, ratings)))"
   ]
  }
 ],
 "metadata": {
  "kernelspec": {
   "display_name": "Python 3",
   "language": "python",
   "name": "python3"
  },
  "language_info": {
   "codemirror_mode": {
    "name": "ipython",
    "version": 3
   },
   "file_extension": ".py",
   "mimetype": "text/x-python",
   "name": "python",
   "nbconvert_exporter": "python",
   "pygments_lexer": "ipython3",
   "version": "3.9.9"
  }
 },
 "nbformat": 4,
 "nbformat_minor": 5
}
